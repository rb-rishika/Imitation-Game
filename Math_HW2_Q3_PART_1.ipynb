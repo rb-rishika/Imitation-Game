{
  "cells": [
    {
      "cell_type": "markdown",
      "metadata": {
        "id": "view-in-github",
        "colab_type": "text"
      },
      "source": [
        "<a href=\"https://colab.research.google.com/github/rb-rishika/Imitation-Game/blob/main/Math_HW2_Q3_PART_1.ipynb\" target=\"_parent\"><img src=\"https://colab.research.google.com/assets/colab-badge.svg\" alt=\"Open In Colab\"/></a>"
      ]
    },
    {
      "cell_type": "code",
      "execution_count": 1,
      "id": "c2361ac9",
      "metadata": {
        "id": "c2361ac9"
      },
      "outputs": [],
      "source": [
        "import numpy as np\n",
        "import matplotlib as mpl\n",
        "import matplotlib.pyplot as plt\n",
        "import math\n",
        "import random"
      ]
    },
    {
      "cell_type": "code",
      "execution_count": 2,
      "id": "4ddef5c4",
      "metadata": {
        "id": "4ddef5c4"
      },
      "outputs": [],
      "source": [
        "def initialization(D,k):\n",
        "    #mean=0, standard deviation=1\n",
        "    A = np.random.normal(0, 1, (D, D)) #dimension -> D*D\n",
        "    v_vector = np.random.normal(0, 1, (D, 1)) #dimension-> D*1\n",
        "    ek_vector = np.array([[int(i==k)] for i in range (0,D)])\n",
        "    return A, v_vector, ek_vector,D\n"
      ]
    },
    {
      "cell_type": "code",
      "execution_count": 3,
      "id": "a1b173ca",
      "metadata": {
        "id": "a1b173ca"
      },
      "outputs": [],
      "source": [
        "# Function to create error vector of i.i.d. normal variables\n",
        "def createEtMatrix(sigma, D):\n",
        "    e_t = np.random.normal(0, sigma, D)[np.newaxis]\n",
        "    e_t = e_t.T\n",
        "    return e_t"
      ]
    },
    {
      "cell_type": "code",
      "execution_count": 6,
      "id": "5917b44c",
      "metadata": {
        "id": "5917b44c"
      },
      "outputs": [],
      "source": [
        "iterations= 0\n",
        "norm_array=[]\n",
        "A, v_vector, ek_vector,D=initialization(10,1)\n",
        "alpha=0.1 #setting stepsize as 0.001\n",
        "sigma=0\n",
        "time=1\n",
        "sigma = random.uniform(0,1)\n",
        "norm_prev=0\n",
        "while(True):\n",
        "    alpha_dyn=alpha/time\n",
        "    AT=np.transpose(A) #computing A transpose\n",
        "    temp = np.subtract(np.matmul(np.matmul(AT,A),v_vector) , np.matmul(AT,ek_vector)) + createEtMatrix(sigma,D)\n",
        "\n",
        "    v_vector = v_vector - alpha_dyn*temp\n",
        "    norm=np.linalg.norm(np.subtract(np.matmul(A,v_vector),ek_vector))\n",
        "\n",
        "    norm_array.append(norm)\n",
        "    iterations+=1\n",
        "    time+=1\n",
        "    #print(\"Iterations {}: cost={}\".format(iterations,norm))\n",
        "    if np.isclose(norm_prev,norm):\n",
        "        break\n",
        "    norm_prev=norm\n"
      ]
    },
    {
      "cell_type": "code",
      "execution_count": 5,
      "id": "225566d3",
      "metadata": {
        "colab": {
          "base_uri": "https://localhost:8080/",
          "height": 312
        },
        "id": "225566d3",
        "outputId": "50d50a74-bf63-416f-eeeb-9705d78f2d40"
      },
      "outputs": [
        {
          "output_type": "execute_result",
          "data": {
            "text/plain": [
              "Text(0, 0.5, 'Iterations')"
            ]
          },
          "metadata": {},
          "execution_count": 5
        },
        {
          "output_type": "display_data",
          "data": {
            "text/plain": [
              "<Figure size 432x288 with 1 Axes>"
            ],
            "image/png": "[encoded data removed]"
          },
          "metadata": {
            "needs_background": "light"
          }
        }
      ],
      "source": [
        "plt.plot(norm_array)\n",
        "plt.title(\"Dynamic alpha\")\n",
        "\n",
        "plt.xlabel('Cost')\n",
        "plt.ylabel('Iterations')\n"
      ]
    },
    {
      "cell_type": "code",
      "execution_count": null,
      "id": "5845e89a",
      "metadata": {
        "id": "5845e89a"
      },
      "outputs": [],
      "source": [
        ""
      ]
    }
  ],
  "metadata": {
    "kernelspec": {
      "display_name": "Python 3 (ipykernel)",
      "language": "python",
      "name": "python3"
    },
    "language_info": {
      "codemirror_mode": {
        "name": "ipython",
        "version": 3
      },
      "file_extension": ".py",
      "mimetype": "text/x-python",
      "name": "python",
      "nbconvert_exporter": "python",
      "pygments_lexer": "ipython3",
      "version": "3.9.7"
    },
    "colab": {
      "name": "Math_HW2_Q3_PART_1.ipynb",
      "provenance": [],
      "include_colab_link": true
    }
  },
  "nbformat": 4,
  "nbformat_minor": 5
}